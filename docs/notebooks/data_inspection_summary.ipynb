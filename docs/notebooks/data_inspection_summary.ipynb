{
 "cells": [
  {
   "cell_type": "markdown",
   "id": "a9442a5a",
   "metadata": {},
   "source": [
    "# Chelsea Performance Analytics - Sprint 1\n",
    "\n",
    "## 1 Objective\n",
    "Set up initial data inspection for performance analytics data mart focused on Chelsea FC. This porcess involved loading all raw CSV files obtained from Kaggle online sources and inspecting their structure, data and columns to prepare for cleaning and modeling in the next sprint.\n",
    "\n",
    "### 2 Raw Files Inspected\n",
    "\n",
    "| Filename | Rows | Columns | Key Notes |\n",
    "|----------|------|---------|-----------|\n",
    "| 24-25-fixtures.csv | 380 | 11 | Clean, minimal nulls (4 in Attendance) |\n",
    "| 23-24-fixtures.csv | 380 | 8 | Simple structure, all values present |\n",
    "| historical-fixture-data.csv | 12026 | 8 | Long-term match history, includes FTR (Full Time Result) |\n",
    "| historical-epl_data.csv | 666 | 18 | Team-season summaries |\n",
    "| 24-25_club-stats.csv | 20 | 19 | Club-level stats (xG, top scorer), 10 nulls in Notes |\n",
    "| seasonstats.csv | 2563 | 22 | Many nulls (80–90%) in shooting/pass columns |"
   ]
  },
  {
   "cell_type": "markdown",
   "id": "644c8dea",
   "metadata": {},
   "source": [
    "### 3. Initial Observations\n",
    "<b>a.</b> Column names are inconsistent across files.  \n",
    "<b>b.</b> Some files have missing values in key metrics.  \n",
    "<b>c.</b> files like `seasonstats.csv` will need extensive cleaning before analysis.  \n",
    "<b>d.</b> Different naming conventions may need standardization (e.g., `Home` vs `home_team_name`).\n",
    "\n",
    "### 5. Next Steps (Sprint 2 Plan)\n",
    "- Start designing transformation functions per file:\n",
    "    - Normalize column names\n",
    "    - Parse date columns\n",
    "    - Standardize team names\n",
    "- Begin defining a Data Mart Schema\n",
    "- Add automated validation (e.g., schema, nulls, data types)\n",
    "\n",
    "\n"
   ]
  },
  {
   "cell_type": "markdown",
   "id": "2ddcf840",
   "metadata": {},
   "source": []
  }
 ],
 "metadata": {
  "language_info": {
   "name": "python"
  }
 },
 "nbformat": 4,
 "nbformat_minor": 5
}
